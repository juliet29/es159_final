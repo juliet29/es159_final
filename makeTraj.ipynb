{
  "nbformat": 4,
  "nbformat_minor": 0,
  "metadata": {
    "colab": {
      "name": "makeTraj.ipynb",
      "provenance": [],
      "collapsed_sections": [],
      "authorship_tag": "ABX9TyPbV1iDTENByaj1kpj0Wbq4",
      "include_colab_link": true
    },
    "kernelspec": {
      "name": "python3",
      "display_name": "Python 3"
    }
  },
  "cells": [
    {
      "cell_type": "markdown",
      "metadata": {
        "id": "view-in-github",
        "colab_type": "text"
      },
      "source": [
        "<a href=\"https://colab.research.google.com/github/juliet29/es159_final/blob/master/makeTraj.ipynb\" target=\"_parent\"><img src=\"https://colab.research.google.com/assets/colab-badge.svg\" alt=\"Open In Colab\"/></a>"
      ]
    },
    {
      "cell_type": "code",
      "metadata": {
        "id": "W1or17IGsLgA",
        "colab_type": "code",
        "colab": {}
      },
      "source": [
        "import matplotlib.pyplot as plt\n",
        "from matplotlib import cm\n",
        "from matplotlib.ticker import LinearLocator, FormatStrFormatter\n",
        "import numpy as np\n",
        "import pandas as pd\n"
      ],
      "execution_count": 0,
      "outputs": []
    },
    {
      "cell_type": "code",
      "metadata": {
        "id": "poE6UShZvkEu",
        "colab_type": "code",
        "colab": {}
      },
      "source": [
        "# took some points in the workspace, and put them through an inverse kinematics calculator \n",
        "configs = [(-0.17341047737184487, -0.71525030585128, -0.02885402006312265, 1.8017854948821665, 0.03159915371656507, -0.6252481117080041, -0.2205872095320334), (-0.3355678746874074, -0.7552791439699896, -0.05718050469287376, 1.7174944922284334, 0.062108537040577075, -0.6703974776428454, -0.4255372048699638), (-0.4793666917891272, -0.8197583711334447, -0.08451061628081728, 1.5826693217851595, 0.09061724347747023, -0.7420221148385922, -0.6035665072797719), (-0.6034014922793861, -0.9058551237931821, -0.1105025426480211, 1.4036551136050917, 0.11667988916024087, -0.8361614800585164, -0.7497110067100561), (-0.7105115583921603, -1.0099054797735183, -0.13498120259592264, 1.1880511011958674, 0.1404131950392628, -0.9480882734256595, -0.8642995519495283), (-0.8049240935169301, -1.1261192028458669, -0.15796336239315664, 0.9474475729627183, 0.16228670435946382, -1.0709940613655036, -0.9507289839039432), (-0.8896952529049691, -1.2446829196648959, -0.17963712071073054, 0.7014950999824324, 0.1828416301711617, -1.194320598202153, -1.014092759901366), (-0.9654637629785243, -1.3522985844995428, -0.20026718460582452, 0.47726062721638945, 0.2025150305032585, -1.3045051642755505, -1.0607096329701518), (-0.9991132263552938, -1.4282672340765563, -0.2660407508717409, 0.3212176297918254, 0.264558950048584, -1.3811858857200074, -1.0838743118543037)]"
      ],
      "execution_count": 0,
      "outputs": []
    },
    {
      "cell_type": "code",
      "metadata": {
        "id": "F8C_6MGcvwhs",
        "colab_type": "code",
        "colab": {
          "base_uri": "https://localhost:8080/",
          "height": 34
        },
        "outputId": "728b4884-156a-40eb-c0b2-891825222d73"
      },
      "source": [
        "# we will plan a Linear Segment Parabolic Blend trajectory for the ee, the 6th element\n",
        "c1 = configs[1]\n",
        "qo = c1[6]\n",
        "\n",
        "c2 = configs[2]\n",
        "qf = c2[6]\n",
        "\n",
        "print(qo, qf)"
      ],
      "execution_count": 34,
      "outputs": [
        {
          "output_type": "stream",
          "text": [
            "-0.4255372048699638 -0.6035665072797719\n"
          ],
          "name": "stdout"
        }
      ]
    },
    {
      "cell_type": "code",
      "metadata": {
        "id": "tzHPJ5hbw9V0",
        "colab_type": "code",
        "colab": {
          "base_uri": "https://localhost:8080/",
          "height": 34
        },
        "outputId": "23f86719-3a2a-4e99-b0f3-cbda7338ab98"
      },
      "source": [
        "a = 0.5\n",
        "V = 0.5\n",
        "to = 0\n",
        "tf = 1\n",
        "tb = 0.5\n",
        "T = np.arange(0,1,0.01)\n",
        "print(len(T))"
      ],
      "execution_count": 35,
      "outputs": [
        {
          "output_type": "stream",
          "text": [
            "100\n"
          ],
          "name": "stdout"
        }
      ]
    },
    {
      "cell_type": "code",
      "metadata": {
        "id": "nDlwgKtUxHra",
        "colab_type": "code",
        "colab": {
          "base_uri": "https://localhost:8080/",
          "height": 303
        },
        "outputId": "58bf4d10-6a03-4251-aae7-131fda9498d4"
      },
      "source": [
        "# define q(t) for LSPB between two configurations \n",
        "\n",
        "# loop through all time \n",
        "Q = []\n",
        "for t in T:\n",
        "  if 0 <= t <= tb:\n",
        "    q = qo + (a/2)*np.power(t,2)\n",
        "    Q.append(q)\n",
        "  if tb < t <= tf - tb:\n",
        "    q = V*t + (qf + qo - V*tf)/2 \n",
        "    Q.append(q)\n",
        "  if tf - tb < t <= tf:\n",
        "    q = qf - (a*np.power(tf,2))/2 + a*tf*t - (a/2)*np.power(t,2)\n",
        "    Q.append(q)\n",
        "\n",
        "\n",
        "print(len(Q))\n",
        "# joint space trajectory \n",
        "plt.plot(T,Q)"
      ],
      "execution_count": 40,
      "outputs": [
        {
          "output_type": "stream",
          "text": [
            "100\n"
          ],
          "name": "stdout"
        },
        {
          "output_type": "execute_result",
          "data": {
            "text/plain": [
              "[<matplotlib.lines.Line2D at 0x7f1f239aa550>]"
            ]
          },
          "metadata": {
            "tags": []
          },
          "execution_count": 40
        },
        {
          "output_type": "display_data",
          "data": {
            "image/png": "[encoded data removed]",
            "text/plain": [
              "<Figure size 432x288 with 1 Axes>"
            ]
          },
          "metadata": {
            "tags": [],
            "needs_background": "light"
          }
        }
      ]
    },
    {
      "cell_type": "code",
      "metadata": {
        "id": "M7__0m8I0ExR",
        "colab_type": "code",
        "colab": {
          "base_uri": "https://localhost:8080/",
          "height": 300
        },
        "outputId": "1fefa274-edee-45e7-f3a6-39f0d4c80f9c"
      },
      "source": [
        "# velocity trajectory \n",
        "dQ = np.gradient(Q,T)\n",
        "print(len(dQ))\n",
        "plt.plot(T,dQ)"
      ],
      "execution_count": 43,
      "outputs": [
        {
          "output_type": "stream",
          "text": [
            "100\n"
          ],
          "name": "stdout"
        },
        {
          "output_type": "execute_result",
          "data": {
            "text/plain": [
              "[<matplotlib.lines.Line2D at 0x7f1f23aa61d0>]"
            ]
          },
          "metadata": {
            "tags": []
          },
          "execution_count": 43
        },
        {
          "output_type": "display_data",
          "data": {
            "image/png": "[encoded data removed]",
            "text/plain": [
              "<Figure size 432x288 with 1 Axes>"
            ]
          },
          "metadata": {
            "tags": [],
            "needs_background": "light"
          }
        }
      ]
    },
    {
      "cell_type": "code",
      "metadata": {
        "id": "e1ICuCJG1VdX",
        "colab_type": "code",
        "colab": {
          "base_uri": "https://localhost:8080/",
          "height": 300
        },
        "outputId": "005431b0-bc3b-4602-c002-f991e1813fd6"
      },
      "source": [
        "# acceleration trajectory \n",
        "d2Q = np.gradient(dQ,T)\n",
        "print(len(d2Q))\n",
        "plt.plot(T,d2Q)"
      ],
      "execution_count": 44,
      "outputs": [
        {
          "output_type": "stream",
          "text": [
            "100\n"
          ],
          "name": "stdout"
        },
        {
          "output_type": "execute_result",
          "data": {
            "text/plain": [
              "[<matplotlib.lines.Line2D at 0x7f1f239f8710>]"
            ]
          },
          "metadata": {
            "tags": []
          },
          "execution_count": 44
        },
        {
          "output_type": "display_data",
          "data": {
            "image/png": "[encoded data removed]",
            "text/plain": [
              "<Figure size 432x288 with 1 Axes>"
            ]
          },
          "metadata": {
            "tags": [],
            "needs_background": "light"
          }
        }
      ]
    }
  ]
}